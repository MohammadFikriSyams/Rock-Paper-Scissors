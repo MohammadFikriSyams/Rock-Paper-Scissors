{
  "nbformat": 4,
  "nbformat_minor": 0,
  "metadata": {
    "colab": {
      "name": "Rock Paper Scissors",
      "provenance": [],
      "toc_visible": true
    },
    "kernelspec": {
      "name": "python3",
      "display_name": "Python 3"
    },
    "language_info": {
      "name": "python"
    }
  },
  "cells": [
    {
      "cell_type": "markdown",
      "metadata": {
        "id": "9qFLoCPYM5Yt"
      },
      "source": [
        "<h1 align=\"center\">Final Project: Image Classification</h1>\n",
        "<p align=\"center\">\n",
        "  <img src=\"https://d17ivq9b7rppb3.cloudfront.net/small/avatar/20210505031106d0471c5c99f62744f52c796b1dd06fef.png\">\n",
        "</p>\n",
        "<p align=\"center\">Name : Muhammad Yusuf Aristyanto</p>\n",
        "<p align=\"center\">Class : Machine Learning for Beginners</p>\n",
        "\n"
      ]
    },
    {
      "cell_type": "markdown",
      "metadata": {
        "id": "Wy6KdzbY1T_M"
      },
      "source": [
        "# Import Libraries"
      ]
    },
    {
      "cell_type": "code",
      "metadata": {
        "id": "COdnyc1TzuXj",
        "colab": {
          "base_uri": "https://localhost:8080/"
        },
        "outputId": "ff37a592-5244-4f8d-dc9e-7cc5d004aea2"
      },
      "source": [
        "from io import BytesIO\n",
        "from IPython.display import Image as IMG\n",
        "from google.colab import files\n",
        "from keras.preprocessing import image\n",
        "from shutil import copyfile\n",
        "from sklearn.metrics import classification_report, confusion_matrix\n",
        "from tensorflow.keras.applications.inception_v3 import InceptionV3\n",
        "from tensorflow.keras.preprocessing.image import ImageDataGenerator\n",
        "from tensorflow.keras.optimizers import RMSprop\n",
        "from urllib.request import urlopen\n",
        "import seaborn as sns\n",
        "import matplotlib.image as mpimg\n",
        "import matplotlib.pyplot as plt\n",
        "import numpy as np\n",
        "import pandas as pd\n",
        "import random\n",
        "import tensorflow as tf\n",
        "import zipfile, os\n",
        "import warnings\n",
        "warnings.filterwarnings(\"ignore\")\n",
        "\n",
        "!pip install ipython-autotime\n",
        "%load_ext autotime"
      ],
      "execution_count": 26,
      "outputs": [
        {
          "output_type": "stream",
          "text": [
            "Requirement already satisfied: ipython-autotime in /usr/local/lib/python3.7/dist-packages (0.3.1)\n",
            "Requirement already satisfied: ipython in /usr/local/lib/python3.7/dist-packages (from ipython-autotime) (5.5.0)\n",
            "Requirement already satisfied: decorator in /usr/local/lib/python3.7/dist-packages (from ipython->ipython-autotime) (4.4.2)\n",
            "Requirement already satisfied: pygments in /usr/local/lib/python3.7/dist-packages (from ipython->ipython-autotime) (2.6.1)\n",
            "Requirement already satisfied: prompt-toolkit<2.0.0,>=1.0.4 in /usr/local/lib/python3.7/dist-packages (from ipython->ipython-autotime) (1.0.18)\n",
            "Requirement already satisfied: pickleshare in /usr/local/lib/python3.7/dist-packages (from ipython->ipython-autotime) (0.7.5)\n",
            "Requirement already satisfied: simplegeneric>0.8 in /usr/local/lib/python3.7/dist-packages (from ipython->ipython-autotime) (0.8.1)\n",
            "Requirement already satisfied: traitlets>=4.2 in /usr/local/lib/python3.7/dist-packages (from ipython->ipython-autotime) (5.0.5)\n",
            "Requirement already satisfied: pexpect; sys_platform != \"win32\" in /usr/local/lib/python3.7/dist-packages (from ipython->ipython-autotime) (4.8.0)\n",
            "Requirement already satisfied: setuptools>=18.5 in /usr/local/lib/python3.7/dist-packages (from ipython->ipython-autotime) (56.1.0)\n",
            "Requirement already satisfied: six>=1.9.0 in /usr/local/lib/python3.7/dist-packages (from prompt-toolkit<2.0.0,>=1.0.4->ipython->ipython-autotime) (1.15.0)\n",
            "Requirement already satisfied: wcwidth in /usr/local/lib/python3.7/dist-packages (from prompt-toolkit<2.0.0,>=1.0.4->ipython->ipython-autotime) (0.2.5)\n",
            "Requirement already satisfied: ipython-genutils in /usr/local/lib/python3.7/dist-packages (from traitlets>=4.2->ipython->ipython-autotime) (0.2.0)\n",
            "Requirement already satisfied: ptyprocess>=0.5 in /usr/local/lib/python3.7/dist-packages (from pexpect; sys_platform != \"win32\"->ipython->ipython-autotime) (0.7.0)\n",
            "The autotime extension is already loaded. To reload it, use:\n",
            "  %reload_ext autotime\n",
            "time: 2.89 s (started: 2021-05-09 21:57:13 +00:00)\n"
          ],
          "name": "stdout"
        }
      ]
    },
    {
      "cell_type": "markdown",
      "metadata": {
        "id": "VNh8RrdG1f-X"
      },
      "source": [
        "# Download Data\n",
        "\n",
        "Download data from [this link](https://dicodingacademy.blob.core.windows.net/picodiploma/ml_pemula_academy/rockpaperscissors.zip)"
      ]
    },
    {
      "cell_type": "code",
      "metadata": {
        "colab": {
          "base_uri": "https://localhost:8080/"
        },
        "id": "fA440RIYOulZ",
        "outputId": "2fdd079c-b77f-4f81-8a18-8c86c66396ec"
      },
      "source": [
        "!wget --no-check-certificate \\\n",
        "  https://dicodingacademy.blob.core.windows.net/picodiploma/ml_pemula_academy/rockpaperscissors.zip \\\n",
        "  -O /tmp/rockpaperscissors.zip"
      ],
      "execution_count": 2,
      "outputs": [
        {
          "output_type": "stream",
          "text": [
            "--2021-05-09 21:24:57--  https://dicodingacademy.blob.core.windows.net/picodiploma/ml_pemula_academy/rockpaperscissors.zip\n",
            "Resolving dicodingacademy.blob.core.windows.net (dicodingacademy.blob.core.windows.net)... 52.239.197.36\n",
            "Connecting to dicodingacademy.blob.core.windows.net (dicodingacademy.blob.core.windows.net)|52.239.197.36|:443... connected.\n",
            "HTTP request sent, awaiting response... 200 OK\n",
            "Length: 322873683 (308M) [application/zip]\n",
            "Saving to: ‘/tmp/rockpaperscissors.zip’\n",
            "\n",
            "/tmp/rockpapersciss 100%[===================>] 307.92M  8.95MB/s    in 63s     \n",
            "\n",
            "2021-05-09 21:26:01 (4.88 MB/s) - ‘/tmp/rockpaperscissors.zip’ saved [322873683/322873683]\n",
            "\n"
          ],
          "name": "stdout"
        }
      ]
    },
    {
      "cell_type": "markdown",
      "metadata": {
        "id": "UxrZOMsp1mj_"
      },
      "source": [
        "# Extraxt Data\n",
        "\n",
        "Extraxt and save data locally in /tmp folder"
      ]
    },
    {
      "cell_type": "code",
      "metadata": {
        "id": "zHXaL4ZeO-Pg"
      },
      "source": [
        "local_zip = '/tmp/rockpaperscissors.zip'\n",
        "zip_ref = zipfile.ZipFile(local_zip, 'r')\n",
        "zip_ref.extractall('/tmp')\n",
        "zip_ref.close()"
      ],
      "execution_count": 3,
      "outputs": []
    },
    {
      "cell_type": "markdown",
      "metadata": {
        "id": "-L4Whyfx2C47"
      },
      "source": [
        "# Inspect the Data"
      ]
    },
    {
      "cell_type": "code",
      "metadata": {
        "colab": {
          "base_uri": "https://localhost:8080/"
        },
        "id": "vnTFnFATRhBe",
        "outputId": "083aee6e-75cb-46f0-beb7-ea8518450107"
      },
      "source": [
        "print('Number of Rock images: ', len(os.listdir('/tmp/rockpaperscissors/rock/')))\n",
        "print('Number of Paper images: ', len(os.listdir('/tmp/rockpaperscissors/paper/')))\n",
        "print('Number of Scissors images: ', len(os.listdir('/tmp/rockpaperscissors/scissors/')))"
      ],
      "execution_count": 20,
      "outputs": [
        {
          "output_type": "stream",
          "text": [
            "Number of Rock images:  726\n",
            "Number of Paper images:  712\n",
            "Number of Scissors images:  750\n",
            "time: 6.64 ms (started: 2021-05-09 21:44:07 +00:00)\n"
          ],
          "name": "stdout"
        }
      ]
    },
    {
      "cell_type": "markdown",
      "metadata": {
        "id": "L5r6Hc3Z2JEl"
      },
      "source": [
        "# Try Making Some Folders for Modelling"
      ]
    },
    {
      "cell_type": "code",
      "metadata": {
        "id": "67wiAXRpRzAZ"
      },
      "source": [
        "try:\n",
        "  os.mkdir('/tmp/rockpaperscissors/training')\n",
        "  os.mkdir('/tmp/rockpaperscissors/training/rock')\n",
        "  os.mkdir('/tmp/rockpaperscissors/training/paper')\n",
        "  os.mkdir('/tmp/rockpaperscissors/training/scissors')\n",
        "  os.mkdir('/tmp/rockpaperscissors/testing')\n",
        "  os.mkdir('/tmp/rockpaperscissors/testing/rock')\n",
        "  os.mkdir('/tmp/rockpaperscissors/testing/paper')\n",
        "  os.mkdir('/tmp/rockpaperscissors/testing/scissors')\n",
        "except OSError:\n",
        "  pass"
      ],
      "execution_count": 5,
      "outputs": []
    },
    {
      "cell_type": "markdown",
      "metadata": {
        "id": "xyB-u39Z2Pc4"
      },
      "source": [
        "# Split Data"
      ]
    },
    {
      "cell_type": "code",
      "metadata": {
        "id": "iZzSwKujTB7R"
      },
      "source": [
        "def split_data(images_path, training_path, testing_path, split_size):\n",
        "    files = []\n",
        "    for filename in os.listdir(images_path):\n",
        "        file = images_path + filename\n",
        "        if os.path.getsize(file) > 0:\n",
        "            files.append(filename)\n",
        "        else:\n",
        "            print(filename + \" others\")\n",
        "\n",
        "    training_length = int(len(files) * split_size)\n",
        "    testing_length = int(len(files) - training_length)\n",
        "    shuffled_set = random.sample(files, len(files))\n",
        "    training_set = shuffled_set[0:training_length]\n",
        "    testing_set = shuffled_set[training_length:]\n",
        "\n",
        "    for filename in training_set:\n",
        "        this_file = images_path + filename\n",
        "        destination = training_path + filename\n",
        "        copyfile(this_file, destination)\n",
        "\n",
        "    for filename in testing_set:\n",
        "        this_file = images_path + filename\n",
        "        destination = testing_path + filename\n",
        "        copyfile(this_file, destination)\n",
        "\n",
        "rock_images_path = \"/tmp/rockpaperscissors/rock/\"\n",
        "rock_train_path = \"/tmp/rockpaperscissors/training/rock/\"\n",
        "rock_test_path = \"/tmp/rockpaperscissors/testing/rock/\"\n",
        "\n",
        "paper_images_path = \"/tmp/rockpaperscissors/paper/\"\n",
        "paper_train_path = \"/tmp/rockpaperscissors/training/paper/\"\n",
        "paper_test_path = \"/tmp/rockpaperscissors/testing/paper/\"\n",
        "\n",
        "scissors_images_path = \"/tmp/rockpaperscissors/scissors/\"\n",
        "scissors_train_path = \"/tmp/rockpaperscissors/training/scissors/\"\n",
        "scissors_test_path = \"/tmp/rockpaperscissors/testing/scissors/\"\n",
        "\n",
        "split_size = 0.6 # 60% Data Training and 40% Data Validation\n",
        "split_data(rock_images_path, rock_train_path, rock_test_path, split_size)\n",
        "split_data(paper_images_path, paper_train_path, paper_test_path, split_size)\n",
        "split_data(scissors_images_path, scissors_train_path, scissors_test_path, split_size)"
      ],
      "execution_count": 6,
      "outputs": []
    },
    {
      "cell_type": "markdown",
      "metadata": {
        "id": "vMySQshW3g2Z"
      },
      "source": [
        "# Inspect the Size of Training and Validation Data"
      ]
    },
    {
      "cell_type": "code",
      "metadata": {
        "colab": {
          "base_uri": "https://localhost:8080/"
        },
        "id": "10lc6u_b26rG",
        "outputId": "26e71a4d-e15c-4025-f592-46a9e4307343"
      },
      "source": [
        "total_train = len(os.listdir(rock_train_path)) + len(os.listdir(paper_train_path)) + len(os.listdir(scissors_train_path))\n",
        "total_test = len(os.listdir(rock_test_path)) + len(os.listdir(paper_test_path)) + len(os.listdir(scissors_test_path))\n",
        "\n",
        "print(\"We have a total training data of \" + str(total_train) + \" rows and validation data of \" + str(total_test))"
      ],
      "execution_count": 7,
      "outputs": [
        {
          "output_type": "stream",
          "text": [
            "We have a total training data of 1312 rows and validation data of 876\n"
          ],
          "name": "stdout"
        }
      ]
    },
    {
      "cell_type": "markdown",
      "metadata": {
        "id": "wVxj5Hms4rs1"
      },
      "source": [
        "# Implement the Image Augmentation"
      ]
    },
    {
      "cell_type": "code",
      "metadata": {
        "colab": {
          "base_uri": "https://localhost:8080/"
        },
        "id": "wg1RQcNZUvCW",
        "outputId": "e40c9b01-df36-413d-b4cf-e1e670bb4750"
      },
      "source": [
        "TRAINING_DIR = '/tmp/rockpaperscissors/training/'\n",
        "train_datagen = ImageDataGenerator(\n",
        "    rescale = 1./255,\n",
        "    rotation_range = 30,\n",
        "    width_shift_range = 0.1,\n",
        "    height_shift_range = 0.2,\n",
        "    shear_range = 0.2,\n",
        "    zoom_range = 0.2,\n",
        "    horizontal_flip = True,\n",
        "    fill_mode = 'nearest'\n",
        ") \n",
        "\n",
        "train_generator = train_datagen.flow_from_directory(\n",
        "    TRAINING_DIR, \n",
        "    batch_size = 128,\n",
        "    class_mode = 'categorical',\n",
        "    target_size = (150,150)\n",
        ")\n",
        "\n",
        "VALIDATION_DIR = \"/tmp/rockpaperscissors/testing\"\n",
        "validation_datagen = ImageDataGenerator(rescale = 1./255)\n",
        "validation_generator = validation_datagen.flow_from_directory(\n",
        "    VALIDATION_DIR,\n",
        "    batch_size=128,\n",
        "    class_mode='categorical',\n",
        "    target_size=(150, 150)\n",
        ")"
      ],
      "execution_count": 12,
      "outputs": [
        {
          "output_type": "stream",
          "text": [
            "Found 1312 images belonging to 3 classes.\n",
            "Found 876 images belonging to 3 classes.\n"
          ],
          "name": "stdout"
        }
      ]
    },
    {
      "cell_type": "markdown",
      "metadata": {
        "id": "FjDByj2GANUW"
      },
      "source": [
        "# Make Some Function to Plot the Modelling History"
      ]
    },
    {
      "cell_type": "code",
      "metadata": {
        "id": "qDcXxNqQcJFi"
      },
      "source": [
        "plt.style.use('seaborn-whitegrid')\n",
        "\n",
        "def plot_acc(history):\n",
        "  acc = history.history['accuracy']\n",
        "  val_acc = history.history['val_accuracy']\n",
        "  epochs = range(len(acc))\n",
        "  plt.figure(figsize=(5,5))\n",
        "  acc_plot, = plt.plot(epochs, acc, 'r')\n",
        "  val_acc_plot, = plt.plot(epochs, val_acc, 'b')\n",
        "  plt.title('Training and Validation Accuracy')\n",
        "  plt.legend([acc_plot, val_acc_plot], ['Training Accuracy', 'Validation Accuracy'])\n",
        "\n",
        "\n",
        "def plot_loss(history):\n",
        "  loss = history.history['loss']\n",
        "  val_loss = history.history['val_loss']\n",
        "  epochs = range(len(loss))\n",
        "  plt.figure(figsize=(5,5))\n",
        "  loss_plot, = plt.plot(epochs, loss, 'r')\n",
        "  val_loss_plot, = plt.plot(epochs, val_loss, 'b')\n",
        "  plt.title('Training and Validation Loss')\n",
        "  plt.legend([loss_plot, val_loss_plot], ['Training Loss', 'Validation Loss'])\n",
        "\n",
        "def plot_history(history):\n",
        "  plot_acc(history)\n",
        "  plot_loss(history)"
      ],
      "execution_count": 9,
      "outputs": []
    },
    {
      "cell_type": "markdown",
      "metadata": {
        "id": "pMSrfF8zBQe5"
      },
      "source": [
        "# Running a Basic Sequential Model Using CNN"
      ]
    },
    {
      "cell_type": "code",
      "metadata": {
        "colab": {
          "base_uri": "https://localhost:8080/",
          "height": 1000
        },
        "id": "r5i0WNgLcSUU",
        "outputId": "413de2ff-7315-4f41-ee87-668455fd0684"
      },
      "source": [
        "tf.keras.backend.clear_session()\n",
        "\n",
        "model_simple = tf.keras.models.Sequential([\n",
        "    tf.keras.layers.Conv2D(16, (3, 3), activation='relu', input_shape=(150, 150, 3)),\n",
        "    tf.keras.layers.MaxPooling2D(2, 2),\n",
        "    tf.keras.layers.Dropout(0.2),\n",
        "    tf.keras.layers.Conv2D(16, (3, 3), activation='relu'),\n",
        "    tf.keras.layers.MaxPooling2D(2, 2),\n",
        "    tf.keras.layers.Dropout(0.2),\n",
        "    tf.keras.layers.Conv2D(32, (3, 3), activation='relu'),\n",
        "    tf.keras.layers.MaxPooling2D(2, 2),\n",
        "    tf.keras.layers.Dropout(0.2),\n",
        "    tf.keras.layers.Flatten(),\n",
        "    tf.keras.layers.Dense(64, activation='relu'),\n",
        "    tf.keras.layers.Dropout(0.2),\n",
        "    tf.keras.layers.Dense(3, activation='softmax')\n",
        "])\n",
        "\n",
        "model_simple.compile(\n",
        "    optimizer='adam', \n",
        "    loss='categorical_crossentropy', \n",
        "    metrics=['accuracy']\n",
        ")\n",
        "\n",
        "history_simple = model_simple.fit(\n",
        "    train_generator,\n",
        "    epochs=20,\n",
        "    verbose=1,\n",
        "    validation_data=validation_generator\n",
        ")\n",
        "\n",
        "plot_history(history_simple)"
      ],
      "execution_count": 21,
      "outputs": [
        {
          "output_type": "stream",
          "text": [
            "Epoch 1/20\n",
            "11/11 [==============================] - 35s 3s/step - loss: 1.2268 - accuracy: 0.3237 - val_loss: 1.0970 - val_accuracy: 0.3436\n",
            "Epoch 2/20\n",
            "11/11 [==============================] - 33s 3s/step - loss: 1.0960 - accuracy: 0.3664 - val_loss: 1.0942 - val_accuracy: 0.3984\n",
            "Epoch 3/20\n",
            "11/11 [==============================] - 34s 3s/step - loss: 1.0901 - accuracy: 0.3650 - val_loss: 1.0822 - val_accuracy: 0.4829\n",
            "Epoch 4/20\n",
            "11/11 [==============================] - 33s 3s/step - loss: 1.0663 - accuracy: 0.4303 - val_loss: 1.0450 - val_accuracy: 0.4737\n",
            "Epoch 5/20\n",
            "11/11 [==============================] - 33s 3s/step - loss: 1.0340 - accuracy: 0.4602 - val_loss: 0.9690 - val_accuracy: 0.5845\n",
            "Epoch 6/20\n",
            "11/11 [==============================] - 33s 3s/step - loss: 0.9570 - accuracy: 0.5549 - val_loss: 0.8281 - val_accuracy: 0.6781\n",
            "Epoch 7/20\n",
            "11/11 [==============================] - 33s 3s/step - loss: 0.9247 - accuracy: 0.5792 - val_loss: 0.7984 - val_accuracy: 0.6153\n",
            "Epoch 8/20\n",
            "11/11 [==============================] - 33s 3s/step - loss: 0.8728 - accuracy: 0.6165 - val_loss: 0.6989 - val_accuracy: 0.7420\n",
            "Epoch 9/20\n",
            "11/11 [==============================] - 33s 3s/step - loss: 0.8674 - accuracy: 0.6086 - val_loss: 0.7867 - val_accuracy: 0.5845\n",
            "Epoch 10/20\n",
            "11/11 [==============================] - 33s 3s/step - loss: 0.9013 - accuracy: 0.5874 - val_loss: 0.6942 - val_accuracy: 0.6553\n",
            "Epoch 11/20\n",
            "11/11 [==============================] - 33s 3s/step - loss: 0.8456 - accuracy: 0.6299 - val_loss: 0.6150 - val_accuracy: 0.8025\n",
            "Epoch 12/20\n",
            "11/11 [==============================] - 33s 3s/step - loss: 0.8072 - accuracy: 0.6701 - val_loss: 0.5644 - val_accuracy: 0.8048\n",
            "Epoch 13/20\n",
            "11/11 [==============================] - 33s 3s/step - loss: 0.7814 - accuracy: 0.6803 - val_loss: 0.5612 - val_accuracy: 0.8105\n",
            "Epoch 14/20\n",
            "11/11 [==============================] - 33s 3s/step - loss: 0.7779 - accuracy: 0.6839 - val_loss: 0.5226 - val_accuracy: 0.8733\n",
            "Epoch 15/20\n",
            "11/11 [==============================] - 33s 3s/step - loss: 0.7689 - accuracy: 0.7052 - val_loss: 0.5048 - val_accuracy: 0.8539\n",
            "Epoch 16/20\n",
            "11/11 [==============================] - 33s 3s/step - loss: 0.6447 - accuracy: 0.7480 - val_loss: 0.4449 - val_accuracy: 0.9418\n",
            "Epoch 17/20\n",
            "11/11 [==============================] - 33s 3s/step - loss: 0.6516 - accuracy: 0.7156 - val_loss: 0.3682 - val_accuracy: 0.9281\n",
            "Epoch 18/20\n",
            "11/11 [==============================] - 33s 3s/step - loss: 0.6511 - accuracy: 0.7506 - val_loss: 0.3790 - val_accuracy: 0.9372\n",
            "Epoch 19/20\n",
            "11/11 [==============================] - 33s 3s/step - loss: 0.5967 - accuracy: 0.7681 - val_loss: 0.3636 - val_accuracy: 0.9532\n",
            "Epoch 20/20\n",
            "11/11 [==============================] - 33s 3s/step - loss: 0.5556 - accuracy: 0.7851 - val_loss: 0.3034 - val_accuracy: 0.9463\n",
            "The autotime extension is already loaded. To reload it, use:\n",
            "  %reload_ext autotime\n"
          ],
          "name": "stdout"
        },
        {
          "output_type": "display_data",
          "data": {
            "image/png": "[encoded data removed]",
            "text/plain": [
              "<Figure size 360x360 with 1 Axes>"
            ]
          },
          "metadata": {
            "tags": []
          }
        },
        {
          "output_type": "display_data",
          "data": {
            "image/png": "[encoded data removed]",
            "text/plain": [
              "<Figure size 360x360 with 1 Axes>"
            ]
          },
          "metadata": {
            "tags": []
          }
        },
        {
          "output_type": "stream",
          "text": [
            "time: 11min 5s (started: 2021-05-09 21:44:21 +00:00)\n"
          ],
          "name": "stdout"
        }
      ]
    },
    {
      "cell_type": "markdown",
      "metadata": {
        "id": "m_VJrf_GIBe9"
      },
      "source": [
        "# Evaluate the First Model"
      ]
    },
    {
      "cell_type": "code",
      "metadata": {
        "colab": {
          "base_uri": "https://localhost:8080/"
        },
        "id": "T_Suc7OvIDKi",
        "outputId": "7ef4c479-5b55-4a25-e674-31344f3a6222"
      },
      "source": [
        "validation_generator = validation_datagen.flow_from_directory(\n",
        "    VALIDATION_DIR,\n",
        "    batch_size=159,\n",
        "    class_mode='categorical',\n",
        "    target_size=(150, 150),\n",
        "    shuffle = False\n",
        ")\n",
        "\n",
        "filenames = validation_generator.filenames\n",
        "nb_samples = len(filenames)\n",
        "\n",
        "Y_pred = model_simple.predict_generator(validation_generator, steps = nb_samples)\n",
        "y_pred = np.argmax(Y_pred, axis=1)\n",
        "\n",
        "print('Confusion Matrix')\n",
        "print(confusion_matrix(validation_generator.classes, y_pred))\n",
        "\n",
        "print('Classification Report')\n",
        "target_names = ['Rock', 'Paper', 'Scissors']\n",
        "print(classification_report(validation_generator.classes, y_pred, target_names=target_names))"
      ],
      "execution_count": 23,
      "outputs": [
        {
          "output_type": "stream",
          "text": [
            "Found 876 images belonging to 3 classes.\n",
            "WARNING:tensorflow:Your input ran out of data; interrupting training. Make sure that your dataset or generator can generate at least `steps_per_epoch * epochs` batches (in this case, 876 batches). You may need to use the repeat() function when building your dataset.\n",
            "Confusion Matrix\n",
            "[[252  12  21]\n",
            " [ 11 279   1]\n",
            " [  2   0 298]]\n",
            "Classification Report\n",
            "              precision    recall  f1-score   support\n",
            "\n",
            "        Rock       0.95      0.88      0.92       285\n",
            "       Paper       0.96      0.96      0.96       291\n",
            "    Scissors       0.93      0.99      0.96       300\n",
            "\n",
            "    accuracy                           0.95       876\n",
            "   macro avg       0.95      0.95      0.95       876\n",
            "weighted avg       0.95      0.95      0.95       876\n",
            "\n",
            "time: 6.18 s (started: 2021-05-09 21:56:24 +00:00)\n"
          ],
          "name": "stdout"
        }
      ]
    },
    {
      "cell_type": "markdown",
      "metadata": {
        "id": "IQvdUSNMCell"
      },
      "source": [
        "# Improve the Model Using Transfer Learning (InceptionV3)"
      ]
    },
    {
      "cell_type": "code",
      "metadata": {
        "colab": {
          "base_uri": "https://localhost:8080/"
        },
        "id": "tCOBvRUdcYUb",
        "outputId": "3a3bb2ae-b31f-4fd9-a6f6-27a91c3ff8fc"
      },
      "source": [
        "tf.keras.backend.clear_session()\n",
        "\n",
        "pre_trained_model = InceptionV3(\n",
        "    input_shape = (150, 150, 3),\n",
        "    include_top = False, \n",
        "    weights = 'imagenet'\n",
        ")"
      ],
      "execution_count": 24,
      "outputs": [
        {
          "output_type": "stream",
          "text": [
            "Downloading data from https://storage.googleapis.com/tensorflow/keras-applications/inception_v3/inception_v3_weights_tf_dim_ordering_tf_kernels_notop.h5\n",
            "87916544/87910968 [==============================] - 1s 0us/step\n",
            "time: 3.4 s (started: 2021-05-09 21:56:45 +00:00)\n"
          ],
          "name": "stdout"
        }
      ]
    },
    {
      "cell_type": "markdown",
      "metadata": {
        "id": "_ypCmQ9nDYgP"
      },
      "source": [
        "# Construct the Layers"
      ]
    },
    {
      "cell_type": "code",
      "metadata": {
        "colab": {
          "base_uri": "https://localhost:8080/"
        },
        "id": "f1DLNbrwfGLw",
        "outputId": "52ddfe56-7064-4432-c84a-c1e21aaf665a"
      },
      "source": [
        "for layer in pre_trained_model.layers:\n",
        "  layer.trainable = False\n",
        "  \n",
        "last_layer = pre_trained_model.get_layer('mixed7')\n",
        "\n",
        "last_output = last_layer.output\n",
        "\n",
        "x = tf.keras.layers.Flatten()(last_output)\n",
        "x = tf.keras.layers.Dropout(0.4)(x) \n",
        "x = tf.keras.layers.Dense(256, activation='relu')(x)\n",
        "x = tf.keras.layers.Dropout(0.3)(x)\n",
        "x = tf.keras.layers.Dense(256, activation='relu')(x)\n",
        "x = tf.keras.layers.Dropout(0.2)(x)                  \n",
        "x = tf.keras.layers.Dense(3, activation='softmax')(x)           \n",
        "\n",
        "model_inception = tf.keras.Model(pre_trained_model.input, x)"
      ],
      "execution_count": 27,
      "outputs": [
        {
          "output_type": "stream",
          "text": [
            "time: 154 ms (started: 2021-05-09 21:57:22 +00:00)\n"
          ],
          "name": "stdout"
        }
      ]
    },
    {
      "cell_type": "markdown",
      "metadata": {
        "id": "iCKPhe-fDgZo"
      },
      "source": [
        "# Use Callback to Control the Epoch"
      ]
    },
    {
      "cell_type": "code",
      "metadata": {
        "id": "tJ-2H09Kfauu",
        "colab": {
          "base_uri": "https://localhost:8080/"
        },
        "outputId": "4c5190d7-3ff2-4994-91df-1567a34677f7"
      },
      "source": [
        "reduce_lr = tf.keras.callbacks.ReduceLROnPlateau(\n",
        "    monitor='val_loss', \n",
        "    factor=0.2,\n",
        "    patience=5, \n",
        "    min_lr=1.5e-5\n",
        ")\n",
        "\n",
        "early_stop = tf.keras.callbacks.EarlyStopping(\n",
        "    monitor=\"val_loss\",\n",
        "    min_delta=0,\n",
        "    patience=12,\n",
        "    verbose=0,\n",
        "    mode=\"auto\",\n",
        "    baseline=None,\n",
        "    restore_best_weights=True\n",
        ")"
      ],
      "execution_count": 28,
      "outputs": [
        {
          "output_type": "stream",
          "text": [
            "time: 7.37 ms (started: 2021-05-09 21:57:24 +00:00)\n"
          ],
          "name": "stdout"
        }
      ]
    },
    {
      "cell_type": "markdown",
      "metadata": {
        "id": "2R-OYiadEryV"
      },
      "source": [
        "# Running the Transfer Learning Model Using InceptionV3"
      ]
    },
    {
      "cell_type": "code",
      "metadata": {
        "colab": {
          "base_uri": "https://localhost:8080/",
          "height": 1000
        },
        "id": "FtkZGqwsfcbZ",
        "outputId": "cc5cf6d7-798c-48c4-c91c-394d596f5698"
      },
      "source": [
        "model_inception.compile(\n",
        "    optimizer = 'adam', \n",
        "    loss = 'categorical_crossentropy', \n",
        "    metrics = ['accuracy']\n",
        ")\n",
        "\n",
        "history_inception = model_inception.fit(\n",
        "    train_generator,\n",
        "    epochs=10,\n",
        "    callbacks = [reduce_lr, early_stop],\n",
        "    verbose=1,\n",
        "    validation_data=validation_generator\n",
        ")\n",
        "\n",
        "plot_history(history_inception)\n",
        "\n",
        "%load_ext autotime"
      ],
      "execution_count": 29,
      "outputs": [
        {
          "output_type": "stream",
          "text": [
            "Epoch 1/10\n",
            "11/11 [==============================] - 89s 8s/step - loss: 1.5006 - accuracy: 0.4622 - val_loss: 0.2477 - val_accuracy: 0.8927\n",
            "Epoch 2/10\n",
            "11/11 [==============================] - 84s 8s/step - loss: 0.2906 - accuracy: 0.8951 - val_loss: 0.0710 - val_accuracy: 0.9795\n",
            "Epoch 3/10\n",
            "11/11 [==============================] - 84s 8s/step - loss: 0.1287 - accuracy: 0.9640 - val_loss: 0.0528 - val_accuracy: 0.9783\n",
            "Epoch 4/10\n",
            "11/11 [==============================] - 90s 8s/step - loss: 0.0959 - accuracy: 0.9716 - val_loss: 0.0341 - val_accuracy: 0.9909\n",
            "Epoch 5/10\n",
            "11/11 [==============================] - 85s 8s/step - loss: 0.0713 - accuracy: 0.9790 - val_loss: 0.0238 - val_accuracy: 0.9920\n",
            "Epoch 6/10\n",
            "11/11 [==============================] - 86s 8s/step - loss: 0.0854 - accuracy: 0.9699 - val_loss: 0.0208 - val_accuracy: 0.9966\n",
            "Epoch 7/10\n",
            "11/11 [==============================] - 86s 8s/step - loss: 0.0667 - accuracy: 0.9709 - val_loss: 0.0182 - val_accuracy: 0.9966\n",
            "Epoch 8/10\n",
            "11/11 [==============================] - 85s 8s/step - loss: 0.0621 - accuracy: 0.9758 - val_loss: 0.0408 - val_accuracy: 0.9863\n",
            "Epoch 9/10\n",
            "11/11 [==============================] - 87s 8s/step - loss: 0.0622 - accuracy: 0.9821 - val_loss: 0.0125 - val_accuracy: 0.9954\n",
            "Epoch 10/10\n",
            "11/11 [==============================] - 86s 8s/step - loss: 0.0689 - accuracy: 0.9750 - val_loss: 0.0213 - val_accuracy: 0.9909\n",
            "The autotime extension is already loaded. To reload it, use:\n",
            "  %reload_ext autotime\n"
          ],
          "name": "stdout"
        },
        {
          "output_type": "display_data",
          "data": {
            "image/png": "[encoded data removed]",
            "text/plain": [
              "<Figure size 360x360 with 1 Axes>"
            ]
          },
          "metadata": {
            "tags": []
          }
        },
        {
          "output_type": "display_data",
          "data": {
            "image/png": "[encoded data removed]",
            "text/plain": [
              "<Figure size 360x360 with 1 Axes>"
            ]
          },
          "metadata": {
            "tags": []
          }
        },
        {
          "output_type": "stream",
          "text": [
            "time: 14min 23s (started: 2021-05-09 21:57:29 +00:00)\n"
          ],
          "name": "stdout"
        }
      ]
    },
    {
      "cell_type": "markdown",
      "metadata": {
        "id": "9O_Y9VFZF7Hc"
      },
      "source": [
        "# Evaluate the Second Model"
      ]
    },
    {
      "cell_type": "code",
      "metadata": {
        "colab": {
          "base_uri": "https://localhost:8080/"
        },
        "id": "sngW3Ppefe5r",
        "outputId": "6ac0ed8a-d664-4b1e-d183-9bea818812b6"
      },
      "source": [
        "validation_generator = validation_datagen.flow_from_directory(\n",
        "    VALIDATION_DIR,\n",
        "    batch_size=159,\n",
        "    class_mode='categorical',\n",
        "    target_size=(150, 150),\n",
        "    shuffle = False\n",
        ")\n",
        "\n",
        "filenames = validation_generator.filenames\n",
        "nb_samples = len(filenames)\n",
        "\n",
        "Y_pred = model_inception.predict_generator(validation_generator, steps = nb_samples)\n",
        "y_pred = np.argmax(Y_pred, axis=1)\n",
        "\n",
        "print('Confusion Matrix')\n",
        "print(confusion_matrix(validation_generator.classes, y_pred))\n",
        "\n",
        "print('Classification Report')\n",
        "target_names = ['Rock', 'Paper', 'Scissors']\n",
        "print(classification_report(validation_generator.classes, y_pred, target_names=target_names))"
      ],
      "execution_count": 30,
      "outputs": [
        {
          "output_type": "stream",
          "text": [
            "Found 876 images belonging to 3 classes.\n",
            "WARNING:tensorflow:Your input ran out of data; interrupting training. Make sure that your dataset or generator can generate at least `steps_per_epoch * epochs` batches (in this case, 876 batches). You may need to use the repeat() function when building your dataset.\n",
            "Confusion Matrix\n",
            "[[278   4   3]\n",
            " [  0 291   0]\n",
            " [  1   0 299]]\n",
            "Classification Report\n",
            "              precision    recall  f1-score   support\n",
            "\n",
            "        Rock       1.00      0.98      0.99       285\n",
            "       Paper       0.99      1.00      0.99       291\n",
            "    Scissors       0.99      1.00      0.99       300\n",
            "\n",
            "    accuracy                           0.99       876\n",
            "   macro avg       0.99      0.99      0.99       876\n",
            "weighted avg       0.99      0.99      0.99       876\n",
            "\n",
            "time: 33.1 s (started: 2021-05-09 22:12:40 +00:00)\n"
          ],
          "name": "stdout"
        }
      ]
    },
    {
      "cell_type": "markdown",
      "metadata": {
        "id": "9CfUjlmGF-qP"
      },
      "source": [
        "# Save the Model for Deployment"
      ]
    },
    {
      "cell_type": "code",
      "metadata": {
        "id": "6pVwbddWWwNC",
        "colab": {
          "base_uri": "https://localhost:8080/"
        },
        "outputId": "b597e384-4d14-439e-bfdb-054375fde51e"
      },
      "source": [
        "model_inception.save_weights('model_inception_weights.h5')\n",
        "model_inception.save('model_inception.h5')"
      ],
      "execution_count": 31,
      "outputs": [
        {
          "output_type": "stream",
          "text": [
            "time: 1.23 s (started: 2021-05-09 22:13:30 +00:00)\n"
          ],
          "name": "stdout"
        }
      ]
    },
    {
      "cell_type": "markdown",
      "metadata": {
        "id": "7MO0ogEhGBkL"
      },
      "source": [
        "# Make Function for Predict Other Images"
      ]
    },
    {
      "cell_type": "code",
      "metadata": {
        "id": "zLUY6pfCFUrO",
        "colab": {
          "base_uri": "https://localhost:8080/"
        },
        "outputId": "d7e45bfe-1f6b-4276-d96a-5466c73c2cb5"
      },
      "source": [
        "def predict_image(image_upload, model = model_inception):\n",
        "  im = image_upload\n",
        "  im_array = np.asarray(im)\n",
        "  im_array = im_array*(1/225)\n",
        "  im_input = tf.reshape(im_array, shape = [1, 150, 150, 3])\n",
        "\n",
        "  predict_array = model.predict(im_input)[0]\n",
        "\n",
        "  import pandas as pd\n",
        "  df = pd.DataFrame(predict_array)\n",
        "  df = df.rename({0:'Probability'}, axis = 'columns')\n",
        "  prod = ['Paper', 'Rock', 'Scissors']\n",
        "  df['Product'] = prod\n",
        "  df = df[['Product', 'Probability']]\n",
        "\n",
        "  predict_label = np.argmax(model.predict(im_input))\n",
        "\n",
        "  if predict_label == 0:\n",
        "      predict_product = 'Paper'\n",
        "  elif predict_label == 1:\n",
        "      predict_product = 'Rock'\n",
        "  else:\n",
        "      predict_product = 'Scissor'\n",
        "\n",
        "  return predict_product, df"
      ],
      "execution_count": 47,
      "outputs": [
        {
          "output_type": "stream",
          "text": [
            "time: 18.3 ms (started: 2021-05-09 22:34:13 +00:00)\n"
          ],
          "name": "stdout"
        }
      ]
    },
    {
      "cell_type": "markdown",
      "metadata": {
        "id": "lCq-6HINPKor"
      },
      "source": [
        "# Predict Image"
      ]
    },
    {
      "cell_type": "code",
      "metadata": {
        "colab": {
          "resources": {
            "http://localhost:8080/nbextensions/google.colab/files.js": {
              "data": "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",
              "ok": true,
              "headers": [
                [
                  "content-type",
                  "application/javascript"
                ]
              ],
              "status": 200,
              "status_text": ""
            }
          },
          "base_uri": "https://localhost:8080/",
          "height": 541
        },
        "id": "mbCbv83tFaIa",
        "outputId": "e6f5c060-f1e9-4fff-e6b2-b71139f8d5f1"
      },
      "source": [
        "uploaded = files.upload()\n",
        "\n",
        "for fn in uploaded.keys():\n",
        "  path = fn\n",
        "  img = image.load_img(path, target_size=(150,150))\n",
        "  imgplot = plt.imshow(img)\n",
        "  x = image.img_to_array(img)\n",
        "  x = np.expand_dims(x, axis=0)\n",
        "  img = np.vstack([x])\n",
        "\n",
        "label, df = predict_image(img)\n",
        "\n",
        "print('\\n')\n",
        "plt.show()\n",
        "print(\"\\nThe image is detected as \" + label)\n",
        "print('\\n')\n",
        "print(df)\n",
        "print('\\n')"
      ],
      "execution_count": 56,
      "outputs": [
        {
          "output_type": "display_data",
          "data": {
            "text/html": [
              "\n",
              "     <input type=\"file\" id=\"files-080b1fe4-8c97-4918-a157-1b3f6da541b7\" name=\"files[]\" multiple disabled\n",
              "        style=\"border:none\" />\n",
              "     <output id=\"result-080b1fe4-8c97-4918-a157-1b3f6da541b7\">\n",
              "      Upload widget is only available when the cell has been executed in the\n",
              "      current browser session. Please rerun this cell to enable.\n",
              "      </output>\n",
              "      <script src=\"/nbextensions/google.colab/files.js\"></script> "
            ],
            "text/plain": [
              "<IPython.core.display.HTML object>"
            ]
          },
          "metadata": {
            "tags": []
          }
        },
        {
          "output_type": "stream",
          "text": [
            "Saving scissors.jpg to scissors (2).jpg\n",
            "\n",
            "\n"
          ],
          "name": "stdout"
        },
        {
          "output_type": "display_data",
          "data": {
            "image/png": "[encoded data removed]",
            "text/plain": [
              "<Figure size 432x288 with 1 Axes>"
            ]
          },
          "metadata": {
            "tags": []
          }
        },
        {
          "output_type": "stream",
          "text": [
            "\n",
            "The image is detected as Scissor\n",
            "\n",
            "\n",
            "    Product  Probability\n",
            "0     Paper     0.005612\n",
            "1      Rock     0.239859\n",
            "2  Scissors     0.754529\n",
            "\n",
            "\n",
            "time: 8.56 s (started: 2021-05-09 22:39:12 +00:00)\n"
          ],
          "name": "stdout"
        }
      ]
    }
  ]
}